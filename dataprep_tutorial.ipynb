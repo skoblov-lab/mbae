{
 "cells": [
  {
   "cell_type": "markdown",
   "metadata": {},
   "source": [
    "# Data preparation usage and examples\n",
    "\n",
    "This notebook showcases two ways of interacting with the `mbae` data preparation code.\n",
    "\n",
    "\n",
    "The `mbae.py prepare` command covers most of the user needs in data preparation (see the first section).\n",
    "\n",
    "`mbae` also provides useful interface (see the second section) for programmatic access (see the second section) to the data preparation routines.\n",
    "\n",
    "\n",
    "## 1. Access via `mbae.py` interface\n",
    "\n",
    "`mbae.py` has several commands, each having a collection of options.\n",
    "Let's look at the commands first."
   ]
  },
  {
   "cell_type": "code",
   "execution_count": 1,
   "metadata": {},
   "outputs": [
    {
     "name": "stdout",
     "output_type": "stream",
     "text": [
      "Usage: mbae.py [OPTIONS] COMMAND [ARGS]...\n",
      "\n",
      "Options:\n",
      "  -h, --help  Show this message and exit.\n",
      "\n",
      "Commands:\n",
      "  alleles  List all supported alleles\n",
      "  predict  Predict binding affinity\n",
      "  prepare  Prepares training data\n"
     ]
    }
   ],
   "source": [
    "! python mbae.py --help"
   ]
  },
  {
   "cell_type": "markdown",
   "metadata": {},
   "source": [
    "And then we'll look at the options for the `prepare` command."
   ]
  },
  {
   "cell_type": "code",
   "execution_count": 2,
   "metadata": {},
   "outputs": [
    {
     "name": "stdout",
     "output_type": "stream",
     "text": [
      "Usage: mbae.py prepare [OPTIONS]\n",
      "\n",
      "  Prepares training data\n",
      "\n",
      "Options:\n",
      "  -d, --download_dir DIRECTORY    Path to download directory  [default: ./]\n",
      "  -D, --database TEXT             Databases to prepare. Supports multiple\n",
      "                                  values. Use `--database iedb` or `--database\n",
      "                                  bdata` to download and prepare IEDB or\n",
      "                                  Bdata, separately. Currently, available\n",
      "                                  resources are: iedb, bdata, and none (for\n",
      "                                  not parsing any data source)  [default: all]\n",
      "\n",
      "  -m, --mapping FILE              Path to mapping: a headerless file with\n",
      "                                  space-like separator (e.g., \\t) holding\n",
      "                                  mappings between allele names (1st column)\n",
      "                                  and accessions (2nd column). Accessions must\n",
      "                                  be from IPD-MHC or IMGT/HLA.If not provided,\n",
      "                                  the command will download and parse mappings\n",
      "                                  from IPD-MHC and IMGT/HLA. Then, the mapping\n",
      "                                  will encompass all allotype names\n",
      "                                  historically associated with an accession.\n",
      "                                  You have an option of saving this mapping by\n",
      "                                  passing `save --mapping`.\n",
      "\n",
      "  -s, --save TEXT                 Option controls what will be saved. Multiple\n",
      "                                  values are supported: - final (only final\n",
      "                                  data will be saved); - parsed (every parsed\n",
      "                                  Resource will be saved); - mapping (the\n",
      "                                  obtained mapping will be saved); - raw (raw\n",
      "                                  downloaded files will be saved).   [default:\n",
      "                                  final]\n",
      "\n",
      "  -S, --separate_rare             Whether to separate the resulting DataFrame\n",
      "                                  into two parts - abundant and rare. If\n",
      "                                  provided, each of the \"abundant\" and \"rare\"\n",
      "                                  subsets will also be separated into a\n",
      "                                  \"train\" and \"test\" subset based on\n",
      "                                  `sep_fraction` value.  [default: False]\n",
      "\n",
      "  -t, --rare_threshold INTEGER    If the `separate_rare` flag is provided, use\n",
      "                                  this threshold to control the placement into\n",
      "                                  \"abundant\" and \"rare\" subsets.  [default:\n",
      "                                  100]\n",
      "\n",
      "  -f, --sep_fraction FLOAT        A fraction of training examples to separate.\n",
      "                                  [default: 0.8]\n",
      "\n",
      "  -M, --sep_mode [observations|allotypes]\n",
      "                                  A separation mode. If `observation`, will\n",
      "                                  separate a `sep_fraction` of unique\n",
      "                                  allotype-peptide pairs. If `allotypes`, will\n",
      "                                  separate a `sep_fraction` of unique\n",
      "                                  allotypes.   [default: observations]\n",
      "\n",
      "  -v, --verbose                   If the flag is provided, will output logging\n",
      "                                  messages with the info describing main data\n",
      "                                  processing steps. By default, outputs only\n",
      "                                  warnings.   [default: False]\n",
      "\n",
      "  -h, --help                      Show this message and exit.\n"
     ]
    }
   ],
   "source": [
    "! python mbae.py prepare --help"
   ]
  },
  {
   "cell_type": "markdown",
   "metadata": {},
   "source": [
    "Suppose one wants to prepare only mapping between accession and allotypes and save it into the current directory.\n",
    "Thus, one would use `prepare` in the following manner:"
   ]
  },
  {
   "cell_type": "code",
   "execution_count": 3,
   "metadata": {},
   "outputs": [],
   "source": [
    "! mbae.py prepare --database none --save mapping"
   ]
  },
  {
   "cell_type": "code",
   "execution_count": 4,
   "metadata": {},
   "outputs": [
    {
     "name": "stdout",
     "output_type": "stream",
     "text": [
      "HLA-A*01:01\tHLA27590\n",
      "HLA-A*01010101\tHLA00001\n",
      "HLA-A*010101\tHLA00001\n",
      "HLA-A*01011\tHLA00001\n",
      "HLA-A*0101\tHLA00001\n",
      "HLA-A*01:02\tHLA26566\n",
      "HLA-A*0102\tHLA00002\n",
      "HLA-A*01:03\tHLA23245\n",
      "HLA-A*0103\tHLA00003\n",
      "HLA-A*01:04\tHLA18724\n"
     ]
    }
   ],
   "source": [
    "! head mapping.tsv"
   ]
  },
  {
   "cell_type": "markdown",
   "metadata": {},
   "source": [
    "One can observe that the file `mapping.tsv` has appeared in the current directory.\n",
    "\n",
    "Since we've already obtained mapping between accessions and allotypes, we can use it to prepare the IEDB resource. \n",
    "Let's also save raw and parsed files into the `./tmp` directory (should be created beforehand)."
   ]
  },
  {
   "cell_type": "code",
   "execution_count": 5,
   "metadata": {},
   "outputs": [],
   "source": [
    "! mkdir ./tmp"
   ]
  },
  {
   "cell_type": "code",
   "execution_count": 6,
   "metadata": {},
   "outputs": [
    {
     "name": "stdout",
     "output_type": "stream",
     "text": [
      "WARNING:root:IEDB -- could not map 46 allotypes ['Anpl-UAA*01' 'BF2*0401' 'BF2*1201' 'ELA-A1 class I' 'Eqca-N*00602'\n",
      " 'FLA-E*01801' 'H2-Db H155A mutant' 'H2-Db Y159F mutant'\n",
      " 'H2-Kb D77S, K89A mutant' 'H2-Kb E152A, R155Y, L156Y mutant'\n",
      " 'H2-Kb Y22F, M23I, E24S, D30N mutant' 'H2-Kb Y84A mutant'\n",
      " 'H2-Kb Y84C mutant' 'H2-Lq' 'H2-d class I' 'HLA class I'\n",
      " 'HLA-A*02:01 K66A mutant' 'HLA-A*02:01 K66A, E63Q mutant' 'HLA-A1'\n",
      " 'HLA-A11' 'HLA-A2' 'HLA-A24' 'HLA-A26' 'HLA-A3' 'HLA-A68'\n",
      " 'HLA-B*08:01 B:I66A mutant' 'HLA-B*08:01 E76C mutant' 'HLA-B27' 'HLA-B39'\n",
      " 'HLA-B40' 'HLA-B44' 'HLA-B51' 'HLA-B58' 'HLA-B60' 'HLA-B62' 'HLA-B7'\n",
      " 'HLA-B8' 'HLA-Cw1' 'HLA-Cw4' 'Mamu-B*001:01' 'Mamu-B*003:01'\n",
      " 'Ptal-N*01:01' 'RT1-Aa' 'SLA-1*04:01' 'SLA-3*02:02' 'Xela-UAAg'] corresponding to 1109 records\n"
     ]
    }
   ],
   "source": [
    "! mbae.py prepare -d ./tmp -m ./mapping.tsv -D iedb -s raw -s parsed"
   ]
  },
  {
   "cell_type": "code",
   "execution_count": 7,
   "metadata": {},
   "outputs": [
    {
     "name": "stdout",
     "output_type": "stream",
     "text": [
      "IEDB_parsed.tsv      test_data.tsv\n",
      "mhc_ligand_full.zip  train_data.tsv\n"
     ]
    }
   ],
   "source": [
    "ls ./tmp"
   ]
  },
  {
   "cell_type": "markdown",
   "metadata": {},
   "source": [
    "Thus, the `./tmp` directory now contains both raw and parsed files, as well as training and testing data separated using 0.8 threshold.\n",
    "\n",
    "Now, we can also try to prepare both Bdata2013 and IEDB dataset.\n",
    "In this case, the `prepare` command will merge these data sources, appending unique Bdata allele-peptide observations to all IEDB ones.\n",
    "Let's also make the data preparation verbose so we can clearly see how filtering and merging operations affect the number of entries."
   ]
  },
  {
   "cell_type": "code",
   "execution_count": 8,
   "metadata": {},
   "outputs": [
    {
     "name": "stdout",
     "output_type": "stream",
     "text": [
      "INFO:root:IEDB -- successfully initialized resource\n",
      "INFO:root:IEDB -- downloaded resource from https://www.iedb.org/downloader.php?file_name=doc/mhc_ligand_full_single_file.zip\n",
      "INFO:root:IEDB -- loaded resource; records: 1629184\n",
      "INFO:root:IEDB -- filtered class I records; records: 1414016\n",
      "INFO:root:IEDB -- filtered quantitative assays; records: 184527\n",
      "INFO:root:IEDB -- filtered quantitative measurements; records: 157465\n",
      "INFO:root:IEDB -- filtered by evidence codes; records: 157465\n",
      "INFO:root:IEDB -- filtered by antigen type; records: 157461\n",
      "INFO:root:IEDB -- filtered by peptide length; records: 157059\n",
      "WARNING:root:IEDB -- could not map 46 allotypes ['Anpl-UAA*01' 'BF2*0401' 'BF2*1201' 'ELA-A1 class I' 'Eqca-N*00602'\n",
      " 'FLA-E*01801' 'H2-Db H155A mutant' 'H2-Db Y159F mutant'\n",
      " 'H2-Kb D77S, K89A mutant' 'H2-Kb E152A, R155Y, L156Y mutant'\n",
      " 'H2-Kb Y22F, M23I, E24S, D30N mutant' 'H2-Kb Y84A mutant'\n",
      " 'H2-Kb Y84C mutant' 'H2-Lq' 'H2-d class I' 'HLA class I'\n",
      " 'HLA-A*02:01 K66A mutant' 'HLA-A*02:01 K66A, E63Q mutant' 'HLA-A1'\n",
      " 'HLA-A11' 'HLA-A2' 'HLA-A24' 'HLA-A26' 'HLA-A3' 'HLA-A68'\n",
      " 'HLA-B*08:01 B:I66A mutant' 'HLA-B*08:01 E76C mutant' 'HLA-B27' 'HLA-B39'\n",
      " 'HLA-B40' 'HLA-B44' 'HLA-B51' 'HLA-B58' 'HLA-B60' 'HLA-B62' 'HLA-B7'\n",
      " 'HLA-B8' 'HLA-Cw1' 'HLA-Cw4' 'Mamu-B*001:01' 'Mamu-B*003:01'\n",
      " 'Ptal-N*01:01' 'RT1-Aa' 'SLA-1*04:01' 'SLA-3*02:02' 'Xela-UAAg'] corresponding to 1109 records\n",
      "INFO:root:IEDB -- filtered out unmapped allotypes; records: 155950\n",
      "INFO:root:IEDB -- dropped unnecessary columns and removed duplicates; records 153767\n",
      "INFO:root:IEDB -- completed resource preparation; records: 153767\n",
      "INFO:root:Bdata -- successfully initialized resource\n",
      "INFO:root:Bdata -- downloaded resource from http://tools.iedb.org/static/main/binding_data_2013.zip\n",
      "INFO:root:Bdata -- loaded resource; records: 186684\n",
      "INFO:root:Bdata -- filtered by peptide length; records: 186598\n",
      "WARNING:root:Bdata -- could not map 44 allotypes ['BoLA-AW10' 'BoLA-D18.4' 'BoLA-HD6' 'BoLA-JSP.1' 'BoLA-T2C' 'BoLA-T2a'\n",
      " 'BoLA-T2b' 'ELA-A1' 'H-2-Kbm8' 'H-2-Lq' 'HLA-A1' 'HLA-A11' 'HLA-A2'\n",
      " 'HLA-A24' 'HLA-A26' 'HLA-A3' 'HLA-A3/11' 'HLA-B27' 'HLA-B44' 'HLA-B51'\n",
      " 'HLA-B60' 'HLA-B7' 'HLA-B8' 'HLA-Cw1' 'HLA-Cw4' 'Mamu-A*01' 'Mamu-A*02'\n",
      " 'Mamu-A*07' 'Mamu-A*11' 'Mamu-A*2201' 'Mamu-A*2601' 'Mamu-B*01'\n",
      " 'Mamu-B*03' 'Mamu-B*04' 'Mamu-B*08' 'Mamu-B*1001' 'Mamu-B*17'\n",
      " 'Mamu-B*3901' 'Mamu-B*52' 'Mamu-B*6601' 'Mamu-B*8301' 'Mamu-B*8701'\n",
      " 'RT1-Bl' 'RT1A'] corresponding to 15450 records\n",
      "INFO:root:Bdata -- filtered out unmapped allotypes; records: 171148\n",
      "INFO:root:Bdata -- dropped unnecessary columns and removed duplicates; records 171148\n",
      "INFO:root:Bdata -- completed resource preparation; records: 171148\n",
      "INFO:root:Combined data sources; records: 185788\n",
      "INFO:root:Removed duplicated measurements; records: 181785\n",
      "INFO:root:Saved 145406 training and 36379 testing observations.\n"
     ]
    }
   ],
   "source": [
    "! mbae.py prepare -d ./tmp -m mapping.tsv --verbose"
   ]
  },
  {
   "cell_type": "code",
   "execution_count": 9,
   "metadata": {},
   "outputs": [
    {
     "name": "stdout",
     "output_type": "stream",
     "text": [
      "IEDB_parsed.tsv      test_data.tsv\n",
      "mhc_ligand_full.zip  train_data.tsv\n"
     ]
    }
   ],
   "source": [
    "ls ./tmp"
   ]
  },
  {
   "cell_type": "markdown",
   "metadata": {},
   "source": [
    "Some allotypes have a small number of observations.\n",
    "One may want to separate the parsed data as beloning to \"abundant\" and \"rare\" MHC alleles.\n",
    "This is easily done by providing the `--separate_rare` or `-S` flag.\n",
    "In this case, since we did not provide the mapping, the logging will output the `IMGTHLA` and `IPDMHC` parsing steps first."
   ]
  },
  {
   "cell_type": "code",
   "execution_count": 10,
   "metadata": {},
   "outputs": [
    {
     "name": "stdout",
     "output_type": "stream",
     "text": [
      "INFO:root:IMGTHLA -- successfully initialized resource\n",
      "INFO:root:IPDMHC -- successfully initialized resource\n",
      "INFO:root:IMGTHLA -- downloaded resource from https://raw.githubusercontent.com/ANHIG/IMGTHLA/Latest/Allelelist_history.txt\n",
      "INFO:root:IMGTHLA -- successfully extracted mappings\n",
      "INFO:root:IPDMHC -- downloaded resource from https://raw.githubusercontent.com/ANHIG/IPDMHC/Latest/MHC.xml\n",
      "INFO:root:IPDMHC -- parsed xml tree\n",
      "INFO:root:IPDMHC -- successfully extracted mappings\n",
      "INFO:root:IEDB -- successfully initialized resource\n",
      "INFO:root:IEDB -- downloaded resource from https://www.iedb.org/downloader.php?file_name=doc/mhc_ligand_full_single_file.zip\n",
      "INFO:root:IEDB -- loaded resource; records: 1629184\n",
      "INFO:root:IEDB -- filtered class I records; records: 1414016\n",
      "INFO:root:IEDB -- filtered quantitative assays; records: 184527\n",
      "INFO:root:IEDB -- filtered quantitative measurements; records: 157465\n",
      "INFO:root:IEDB -- filtered by evidence codes; records: 157465\n",
      "INFO:root:IEDB -- filtered by antigen type; records: 157461\n",
      "INFO:root:IEDB -- filtered by peptide length; records: 157059\n",
      "WARNING:root:IEDB -- could not map 46 allotypes ['Anpl-UAA*01' 'BF2*0401' 'BF2*1201' 'ELA-A1 class I' 'Eqca-N*00602'\n",
      " 'FLA-E*01801' 'H2-Db H155A mutant' 'H2-Db Y159F mutant'\n",
      " 'H2-Kb D77S, K89A mutant' 'H2-Kb E152A, R155Y, L156Y mutant'\n",
      " 'H2-Kb Y22F, M23I, E24S, D30N mutant' 'H2-Kb Y84A mutant'\n",
      " 'H2-Kb Y84C mutant' 'H2-Lq' 'H2-d class I' 'HLA class I'\n",
      " 'HLA-A*02:01 K66A mutant' 'HLA-A*02:01 K66A, E63Q mutant' 'HLA-A1'\n",
      " 'HLA-A11' 'HLA-A2' 'HLA-A24' 'HLA-A26' 'HLA-A3' 'HLA-A68'\n",
      " 'HLA-B*08:01 B:I66A mutant' 'HLA-B*08:01 E76C mutant' 'HLA-B27' 'HLA-B39'\n",
      " 'HLA-B40' 'HLA-B44' 'HLA-B51' 'HLA-B58' 'HLA-B60' 'HLA-B62' 'HLA-B7'\n",
      " 'HLA-B8' 'HLA-Cw1' 'HLA-Cw4' 'Mamu-B*001:01' 'Mamu-B*003:01'\n",
      " 'Ptal-N*01:01' 'RT1-Aa' 'SLA-1*04:01' 'SLA-3*02:02' 'Xela-UAAg'] corresponding to 1109 records\n",
      "INFO:root:IEDB -- filtered out unmapped allotypes; records: 155950\n",
      "INFO:root:IEDB -- dropped unnecessary columns and removed duplicates; records 153767\n",
      "INFO:root:IEDB -- completed resource preparation; records: 153767\n",
      "INFO:root:Bdata -- successfully initialized resource\n",
      "INFO:root:Bdata -- downloaded resource from http://tools.iedb.org/static/main/binding_data_2013.zip\n",
      "INFO:root:Bdata -- loaded resource; records: 186684\n",
      "INFO:root:Bdata -- filtered by peptide length; records: 186598\n",
      "WARNING:root:Bdata -- could not map 44 allotypes ['BoLA-AW10' 'BoLA-D18.4' 'BoLA-HD6' 'BoLA-JSP.1' 'BoLA-T2C' 'BoLA-T2a'\n",
      " 'BoLA-T2b' 'ELA-A1' 'H-2-Kbm8' 'H-2-Lq' 'HLA-A1' 'HLA-A11' 'HLA-A2'\n",
      " 'HLA-A24' 'HLA-A26' 'HLA-A3' 'HLA-A3/11' 'HLA-B27' 'HLA-B44' 'HLA-B51'\n",
      " 'HLA-B60' 'HLA-B7' 'HLA-B8' 'HLA-Cw1' 'HLA-Cw4' 'Mamu-A*01' 'Mamu-A*02'\n",
      " 'Mamu-A*07' 'Mamu-A*11' 'Mamu-A*2201' 'Mamu-A*2601' 'Mamu-B*01'\n",
      " 'Mamu-B*03' 'Mamu-B*04' 'Mamu-B*08' 'Mamu-B*1001' 'Mamu-B*17'\n",
      " 'Mamu-B*3901' 'Mamu-B*52' 'Mamu-B*6601' 'Mamu-B*8301' 'Mamu-B*8701'\n",
      " 'RT1-Bl' 'RT1A'] corresponding to 15450 records\n",
      "INFO:root:Bdata -- filtered out unmapped allotypes; records: 171148\n",
      "INFO:root:Bdata -- dropped unnecessary columns and removed duplicates; records 171148\n",
      "INFO:root:Bdata -- completed resource preparation; records: 171148\n",
      "INFO:root:Combined data sources; records: 185788\n",
      "INFO:root:Removed duplicated measurements; records: 181785\n",
      "INFO:root:Saved 143905 training and 36009 testing observations for the abundant subset.\n",
      "INFO:root:Saved 1495 training and 376 testing observations for the rare subset.\n"
     ]
    }
   ],
   "source": [
    "! mbae.py prepare -d ./tmp -v -S"
   ]
  },
  {
   "cell_type": "markdown",
   "metadata": {},
   "source": [
    "As a result, we have four new files appearing in the `./tmp` directory: `train/test_abundant.tsv` and `train/test_rare.tsv`."
   ]
  },
  {
   "cell_type": "code",
   "execution_count": 11,
   "metadata": {},
   "outputs": [
    {
     "name": "stdout",
     "output_type": "stream",
     "text": [
      "IEDB_parsed.tsv          test_data_abundant.tsv   train_data_abundant.tsv\n",
      "mhc_ligand_full.zip      test_data_rare.tsv       train_data_rare.tsv\n",
      "test_data.tsv            train_data.tsv\n"
     ]
    }
   ],
   "source": [
    "ls ./tmp"
   ]
  },
  {
   "cell_type": "markdown",
   "metadata": {},
   "source": [
    "## 2. Programmatic access"
   ]
  },
  {
   "cell_type": "code",
   "execution_count": 12,
   "metadata": {},
   "outputs": [],
   "source": [
    "import logging\n",
    "logging.basicConfig(level=logging.INFO) # To display logging messages\n",
    "\n",
    "from mbae_src.data.base import Constants\n",
    "from mbae_src.data.prepare import (\n",
    "    obtain_mapping, separate_abundant, separate_fraction, IMGTHLAhistory, IPDMHChistory, IEDB, Bdata)"
   ]
  },
  {
   "cell_type": "markdown",
   "metadata": {},
   "source": [
    "Let's first create a mapping object.\n",
    "If we don't need `IMGTHLAhistory`, `IPDMHChistory` objects, we can simply go ahead and call `obtain_mapping`.\n",
    "The latter only needs a directory path to store downloaded resources."
   ]
  },
  {
   "cell_type": "code",
   "execution_count": 13,
   "metadata": {},
   "outputs": [
    {
     "name": "stderr",
     "output_type": "stream",
     "text": [
      "INFO:root:IMGTHLA -- successfully initialized resource\n",
      "INFO:root:IMGTHLA -- downloaded resource from https://raw.githubusercontent.com/ANHIG/IMGTHLA/Latest/Allelelist_history.txt\n",
      "INFO:root:IMGTHLA -- successfully extracted mappings\n",
      "INFO:root:IPDMHC -- successfully initialized resource\n",
      "INFO:root:IPDMHC -- downloaded resource from https://raw.githubusercontent.com/ANHIG/IPDMHC/Latest/MHC.xml\n",
      "INFO:root:IPDMHC -- parsed xml tree\n",
      "INFO:root:IPDMHC -- successfully extracted mappings\n"
     ]
    }
   ],
   "source": [
    "mapping = obtain_mapping('./tmp')"
   ]
  },
  {
   "cell_type": "code",
   "execution_count": 14,
   "metadata": {},
   "outputs": [
    {
     "data": {
      "text/plain": [
       "[('HLA-A*01:01', 'HLA27590'),\n",
       " ('HLA-A*01010101', 'HLA00001'),\n",
       " ('HLA-A*010101', 'HLA00001'),\n",
       " ('HLA-A*01011', 'HLA00001'),\n",
       " ('HLA-A*0101', 'HLA00001')]"
      ]
     },
     "execution_count": 14,
     "metadata": {},
     "output_type": "execute_result"
    }
   ],
   "source": [
    "list(mapping.items())[:5]"
   ]
  },
  {
   "cell_type": "markdown",
   "metadata": {},
   "source": [
    "Alternatively, we can init `IMGTHLAhistory`, `IPDMHChistory` manually like so."
   ]
  },
  {
   "cell_type": "code",
   "execution_count": 15,
   "metadata": {},
   "outputs": [
    {
     "name": "stderr",
     "output_type": "stream",
     "text": [
      "INFO:root:IMGTHLA -- successfully initialized resource\n",
      "INFO:root:IPDMHC -- successfully initialized resource\n"
     ]
    }
   ],
   "source": [
    "imgt, ipd = IMGTHLAhistory(), IPDMHChistory()"
   ]
  },
  {
   "cell_type": "markdown",
   "metadata": {},
   "source": [
    "These are `Resource`s, by default having three methods: `fetch`, `parse` and `dump`.\n",
    "Obviously, `parse` depends on `fetch`'s results, while `parse` must be called prior to `dump`."
   ]
  },
  {
   "cell_type": "code",
   "execution_count": 16,
   "metadata": {},
   "outputs": [
    {
     "name": "stderr",
     "output_type": "stream",
     "text": [
      "INFO:root:IMGTHLA -- downloaded resource from https://raw.githubusercontent.com/ANHIG/IMGTHLA/Latest/Allelelist_history.txt\n",
      "INFO:root:IMGTHLA -- successfully extracted mappings\n",
      "INFO:root:IPDMHC -- downloaded resource from https://raw.githubusercontent.com/ANHIG/IPDMHC/Latest/MHC.xml\n",
      "INFO:root:IPDMHC -- parsed xml tree\n",
      "INFO:root:IPDMHC -- successfully extracted mappings\n"
     ]
    }
   ],
   "source": [
    "imgt.fetch() \n",
    "imgt.parse()\n",
    "ipd.fetch()\n",
    "ipd.parse();"
   ]
  },
  {
   "cell_type": "markdown",
   "metadata": {},
   "source": [
    "Every resource has an attribute holding parsed data.\n",
    "For the `imgt` and `ipd` it's a dictionary with allotype-accession mappings."
   ]
  },
  {
   "cell_type": "code",
   "execution_count": 17,
   "metadata": {},
   "outputs": [
    {
     "data": {
      "text/plain": [
       "([('Aona-DQA1*2701', 'NHP00001'),\n",
       "  ('Aona-DQA1*27:01', 'NHP00001'),\n",
       "  ('Aona-DQA1*2702', 'NHP00002'),\n",
       "  ('Aona-DQA1*27:02', 'NHP00002'),\n",
       "  ('Aona-DQA1*2703', 'NHP00003')],\n",
       " [('HLA-A*01:01', 'HLA27590'),\n",
       "  ('HLA-A*01010101', 'HLA00001'),\n",
       "  ('HLA-A*010101', 'HLA00001'),\n",
       "  ('HLA-A*01011', 'HLA00001'),\n",
       "  ('HLA-A*0101', 'HLA00001')])"
      ]
     },
     "execution_count": 17,
     "metadata": {},
     "output_type": "execute_result"
    }
   ],
   "source": [
    "list(ipd.parsed_data.items())[:5], list(imgt.parsed_data.items())[:5]"
   ]
  },
  {
   "cell_type": "markdown",
   "metadata": {},
   "source": [
    "Thus, `obtain_mapping` can combine these dictionaries with an addition of manually entered mappings."
   ]
  },
  {
   "cell_type": "code",
   "execution_count": 18,
   "metadata": {},
   "outputs": [
    {
     "data": {
      "text/plain": [
       "[('HLA-A*01:01', 'HLA27590'),\n",
       " ('HLA-A*01010101', 'HLA00001'),\n",
       " ('HLA-A*010101', 'HLA00001'),\n",
       " ('HLA-A*01011', 'HLA00001'),\n",
       " ('HLA-A*0101', 'HLA00001')]"
      ]
     },
     "execution_count": 18,
     "metadata": {},
     "output_type": "execute_result"
    }
   ],
   "source": [
    "mapping = obtain_mapping('./tmp', ipd=ipd, imgt=imgt)\n",
    "list(mapping.items())[:5]"
   ]
  },
  {
   "cell_type": "markdown",
   "metadata": {},
   "source": [
    "Now, with the obtained mapping we can go ahead and preare a data source.\n",
    "Let's do this for `Bdata2013` since it's faster to download."
   ]
  },
  {
   "cell_type": "code",
   "execution_count": 19,
   "metadata": {},
   "outputs": [
    {
     "data": {
      "text/plain": [
       "\u001b[0;31mInit signature:\u001b[0m\n",
       "\u001b[0mBdata\u001b[0m\u001b[0;34m(\u001b[0m\u001b[0;34m\u001b[0m\n",
       "\u001b[0;34m\u001b[0m    \u001b[0mdownload_dir\u001b[0m\u001b[0;34m:\u001b[0m \u001b[0mUnion\u001b[0m\u001b[0;34m[\u001b[0m\u001b[0mstr\u001b[0m\u001b[0;34m,\u001b[0m \u001b[0mNoneType\u001b[0m\u001b[0;34m]\u001b[0m \u001b[0;34m=\u001b[0m \u001b[0;32mNone\u001b[0m\u001b[0;34m,\u001b[0m\u001b[0;34m\u001b[0m\n",
       "\u001b[0;34m\u001b[0m    \u001b[0mdownload_file_name\u001b[0m\u001b[0;34m:\u001b[0m \u001b[0mstr\u001b[0m \u001b[0;34m=\u001b[0m \u001b[0;34m'bdata.zip'\u001b[0m\u001b[0;34m,\u001b[0m\u001b[0;34m\u001b[0m\n",
       "\u001b[0;34m\u001b[0m    \u001b[0mmapping\u001b[0m\u001b[0;34m:\u001b[0m \u001b[0mUnion\u001b[0m\u001b[0;34m[\u001b[0m\u001b[0mstr\u001b[0m\u001b[0;34m,\u001b[0m \u001b[0mIO\u001b[0m\u001b[0;34m,\u001b[0m \u001b[0mMapping\u001b[0m\u001b[0;34m[\u001b[0m\u001b[0mstr\u001b[0m\u001b[0;34m,\u001b[0m \u001b[0mstr\u001b[0m\u001b[0;34m]\u001b[0m\u001b[0;34m,\u001b[0m \u001b[0mNoneType\u001b[0m\u001b[0;34m]\u001b[0m \u001b[0;34m=\u001b[0m \u001b[0;34m'./mbae_resources/mapping.tsv'\u001b[0m\u001b[0;34m,\u001b[0m\u001b[0;34m\u001b[0m\n",
       "\u001b[0;34m\u001b[0m\u001b[0;34m)\u001b[0m\u001b[0;34m\u001b[0m\u001b[0;34m\u001b[0m\u001b[0m\n",
       "\u001b[0;31mDocstring:\u001b[0m      Resource fetching and parsing Bdata2013.\n",
       "\u001b[0;31mInit docstring:\u001b[0m\n",
       ":param download_dir: Path to a directory where the resource will be downloaded.\n",
       ":param download_file_name: How to name a raw downloaded file.\n",
       ":param mapping: Initializing IEDB requires valid mapping (i.e., a dictionary) between allotypes and accessions.\n",
       "If not provided, this mapping will be obtained via IMGTHLAhistory and IPDMHChistory classes.\n",
       "\u001b[0;31mFile:\u001b[0m           ~/Projects/mbae_git/mbae_src/data/prepare.py\n",
       "\u001b[0;31mType:\u001b[0m           ABCMeta\n",
       "\u001b[0;31mSubclasses:\u001b[0m     \n"
      ]
     },
     "metadata": {},
     "output_type": "display_data"
    }
   ],
   "source": [
    "?Bdata"
   ]
  },
  {
   "cell_type": "code",
   "execution_count": 20,
   "metadata": {},
   "outputs": [
    {
     "name": "stderr",
     "output_type": "stream",
     "text": [
      "INFO:root:Bdata -- successfully initialized resource\n"
     ]
    }
   ],
   "source": [
    "bdata = Bdata(mapping=mapping)"
   ]
  },
  {
   "cell_type": "markdown",
   "metadata": {},
   "source": [
    "By default, it'll download the resource into a temporary directory."
   ]
  },
  {
   "cell_type": "code",
   "execution_count": 21,
   "metadata": {},
   "outputs": [
    {
     "name": "stderr",
     "output_type": "stream",
     "text": [
      "INFO:root:Bdata -- downloaded resource from http://tools.iedb.org/static/main/binding_data_2013.zip\n"
     ]
    },
    {
     "data": {
      "text/plain": [
       "'/var/folders/h2/x9k131ls3dnf2j2xnm3bdxt00000gn/T/tmpzws6bjcb/bdata.zip'"
      ]
     },
     "execution_count": 21,
     "metadata": {},
     "output_type": "execute_result"
    }
   ],
   "source": [
    "bdata.fetch()"
   ]
  },
  {
   "cell_type": "code",
   "execution_count": 22,
   "metadata": {},
   "outputs": [
    {
     "name": "stderr",
     "output_type": "stream",
     "text": [
      "INFO:root:Bdata -- loaded resource; records: 186684\n",
      "INFO:root:Bdata -- filtered by peptide length; records: 186598\n",
      "WARNING:root:Bdata -- could not map 44 allotypes ['BoLA-AW10' 'BoLA-D18.4' 'BoLA-HD6' 'BoLA-JSP.1' 'BoLA-T2C' 'BoLA-T2a'\n",
      " 'BoLA-T2b' 'ELA-A1' 'H-2-Kbm8' 'H-2-Lq' 'HLA-A1' 'HLA-A11' 'HLA-A2'\n",
      " 'HLA-A24' 'HLA-A26' 'HLA-A3' 'HLA-A3/11' 'HLA-B27' 'HLA-B44' 'HLA-B51'\n",
      " 'HLA-B60' 'HLA-B7' 'HLA-B8' 'HLA-Cw1' 'HLA-Cw4' 'Mamu-A*01' 'Mamu-A*02'\n",
      " 'Mamu-A*07' 'Mamu-A*11' 'Mamu-A*2201' 'Mamu-A*2601' 'Mamu-B*01'\n",
      " 'Mamu-B*03' 'Mamu-B*04' 'Mamu-B*08' 'Mamu-B*1001' 'Mamu-B*17'\n",
      " 'Mamu-B*3901' 'Mamu-B*52' 'Mamu-B*6601' 'Mamu-B*8301' 'Mamu-B*8701'\n",
      " 'RT1-Bl' 'RT1A'] corresponding to 15450 records\n",
      "INFO:root:Bdata -- filtered out unmapped allotypes; records: 171148\n",
      "INFO:root:Bdata -- dropped unnecessary columns and removed duplicates; records 171148\n",
      "INFO:root:Bdata -- completed resource preparation; records: 171148\n"
     ]
    }
   ],
   "source": [
    "bdata.parse();"
   ]
  },
  {
   "cell_type": "markdown",
   "metadata": {},
   "source": [
    "Now we can inspect the parsed data."
   ]
  },
  {
   "cell_type": "code",
   "execution_count": 23,
   "metadata": {},
   "outputs": [
    {
     "data": {
      "text/html": [
       "<div>\n",
       "<style scoped>\n",
       "    .dataframe tbody tr th:only-of-type {\n",
       "        vertical-align: middle;\n",
       "    }\n",
       "\n",
       "    .dataframe tbody tr th {\n",
       "        vertical-align: top;\n",
       "    }\n",
       "\n",
       "    .dataframe thead th {\n",
       "        text-align: right;\n",
       "    }\n",
       "</style>\n",
       "<table border=\"1\" class=\"dataframe\">\n",
       "  <thead>\n",
       "    <tr style=\"text-align: right;\">\n",
       "      <th></th>\n",
       "      <th>accession</th>\n",
       "      <th>peptide</th>\n",
       "      <th>measurement</th>\n",
       "      <th>measurement_ord</th>\n",
       "      <th>inequality</th>\n",
       "      <th>source</th>\n",
       "    </tr>\n",
       "  </thead>\n",
       "  <tbody>\n",
       "    <tr>\n",
       "      <th>0</th>\n",
       "      <td>NHP00705</td>\n",
       "      <td>RRDYRRGL</td>\n",
       "      <td>778.583409</td>\n",
       "      <td>3</td>\n",
       "      <td>=</td>\n",
       "      <td>Bdata</td>\n",
       "    </tr>\n",
       "    <tr>\n",
       "      <th>1</th>\n",
       "      <td>NHP00705</td>\n",
       "      <td>YHSNVKEL</td>\n",
       "      <td>18806.166640</td>\n",
       "      <td>1</td>\n",
       "      <td>=</td>\n",
       "      <td>Bdata</td>\n",
       "    </tr>\n",
       "    <tr>\n",
       "      <th>2</th>\n",
       "      <td>NHP00705</td>\n",
       "      <td>AQFSPQYL</td>\n",
       "      <td>22203.186860</td>\n",
       "      <td>0</td>\n",
       "      <td>=</td>\n",
       "      <td>Bdata</td>\n",
       "    </tr>\n",
       "    <tr>\n",
       "      <th>3</th>\n",
       "      <td>NHP00705</td>\n",
       "      <td>GDYKLVEI</td>\n",
       "      <td>87128.712870</td>\n",
       "      <td>0</td>\n",
       "      <td>&gt;</td>\n",
       "      <td>Bdata</td>\n",
       "    </tr>\n",
       "    <tr>\n",
       "      <th>4</th>\n",
       "      <td>NHP00705</td>\n",
       "      <td>RGYVFQGL</td>\n",
       "      <td>87128.712870</td>\n",
       "      <td>0</td>\n",
       "      <td>&gt;</td>\n",
       "      <td>Bdata</td>\n",
       "    </tr>\n",
       "  </tbody>\n",
       "</table>\n",
       "</div>"
      ],
      "text/plain": [
       "  accession   peptide   measurement  measurement_ord inequality source\n",
       "0  NHP00705  RRDYRRGL    778.583409                3          =  Bdata\n",
       "1  NHP00705  YHSNVKEL  18806.166640                1          =  Bdata\n",
       "2  NHP00705  AQFSPQYL  22203.186860                0          =  Bdata\n",
       "3  NHP00705  GDYKLVEI  87128.712870                0          >  Bdata\n",
       "4  NHP00705  RGYVFQGL  87128.712870                0          >  Bdata"
      ]
     },
     "execution_count": 23,
     "metadata": {},
     "output_type": "execute_result"
    }
   ],
   "source": [
    "bdata.parsed_data.head()"
   ]
  },
  {
   "cell_type": "markdown",
   "metadata": {},
   "source": [
    "Alternatively, if we provide the directory, raw downloaded files will be stored there.\n",
    "Note that one can omit the mapping creation: in this case, the `obtain_mapping` will called during initialization of the `Bdata`. This will trigger the warning though."
   ]
  },
  {
   "cell_type": "code",
   "execution_count": 24,
   "metadata": {},
   "outputs": [
    {
     "name": "stderr",
     "output_type": "stream",
     "text": [
      "WARNING:root:Bdata -- found no \"allotype->accession\" mapping at ./mbae_resources/mapping.tsv; attempting to create a new one by fetching IPD-MHC and IMGT/HLA history\n",
      "INFO:root:IMGTHLA -- successfully initialized resource\n",
      "INFO:root:IMGTHLA -- downloaded resource from https://raw.githubusercontent.com/ANHIG/IMGTHLA/Latest/Allelelist_history.txt\n",
      "INFO:root:IMGTHLA -- successfully extracted mappings\n",
      "INFO:root:IPDMHC -- successfully initialized resource\n",
      "INFO:root:IPDMHC -- downloaded resource from https://raw.githubusercontent.com/ANHIG/IPDMHC/Latest/MHC.xml\n",
      "INFO:root:IPDMHC -- parsed xml tree\n",
      "INFO:root:IPDMHC -- successfully extracted mappings\n",
      "INFO:root:Bdata -- successfully initialized resource\n"
     ]
    }
   ],
   "source": [
    "bdata = Bdata(download_dir='./tmp')"
   ]
  },
  {
   "cell_type": "markdown",
   "metadata": {},
   "source": [
    "`IEDB` has the same interface, although its processing takes a bit more time."
   ]
  },
  {
   "cell_type": "code",
   "execution_count": 25,
   "metadata": {},
   "outputs": [
    {
     "name": "stderr",
     "output_type": "stream",
     "text": [
      "WARNING:root:IEDB -- found no \"allotype->accession\" mapping at ./mbae_resources/mapping.tsv; attempting to create a new one by fetching IPD-MHC and IMGT/HLA history\n",
      "INFO:root:IMGTHLA -- successfully initialized resource\n",
      "INFO:root:IMGTHLA -- downloaded resource from https://raw.githubusercontent.com/ANHIG/IMGTHLA/Latest/Allelelist_history.txt\n",
      "INFO:root:IMGTHLA -- successfully extracted mappings\n",
      "INFO:root:IPDMHC -- successfully initialized resource\n",
      "INFO:root:IPDMHC -- downloaded resource from https://raw.githubusercontent.com/ANHIG/IPDMHC/Latest/MHC.xml\n",
      "INFO:root:IPDMHC -- parsed xml tree\n",
      "INFO:root:IPDMHC -- successfully extracted mappings\n",
      "INFO:root:IEDB -- successfully initialized resource\n"
     ]
    }
   ],
   "source": [
    "iedb = IEDB()"
   ]
  },
  {
   "cell_type": "code",
   "execution_count": 26,
   "metadata": {},
   "outputs": [
    {
     "name": "stderr",
     "output_type": "stream",
     "text": [
      "INFO:root:IEDB -- downloaded resource from https://www.iedb.org/downloader.php?file_name=doc/mhc_ligand_full_single_file.zip\n",
      "INFO:root:IEDB -- loaded resource; records: 1629184\n",
      "INFO:root:IEDB -- filtered class I records; records: 1414016\n",
      "INFO:root:IEDB -- filtered quantitative assays; records: 184527\n",
      "INFO:root:IEDB -- filtered quantitative measurements; records: 157465\n",
      "INFO:root:IEDB -- filtered by evidence codes; records: 157465\n",
      "INFO:root:IEDB -- filtered by antigen type; records: 157461\n",
      "INFO:root:IEDB -- filtered by peptide length; records: 157059\n",
      "WARNING:root:IEDB -- could not map 46 allotypes ['Anpl-UAA*01' 'BF2*0401' 'BF2*1201' 'ELA-A1 class I' 'Eqca-N*00602'\n",
      " 'FLA-E*01801' 'H2-Db H155A mutant' 'H2-Db Y159F mutant'\n",
      " 'H2-Kb D77S, K89A mutant' 'H2-Kb E152A, R155Y, L156Y mutant'\n",
      " 'H2-Kb Y22F, M23I, E24S, D30N mutant' 'H2-Kb Y84A mutant'\n",
      " 'H2-Kb Y84C mutant' 'H2-Lq' 'H2-d class I' 'HLA class I'\n",
      " 'HLA-A*02:01 K66A mutant' 'HLA-A*02:01 K66A, E63Q mutant' 'HLA-A1'\n",
      " 'HLA-A11' 'HLA-A2' 'HLA-A24' 'HLA-A26' 'HLA-A3' 'HLA-A68'\n",
      " 'HLA-B*08:01 B:I66A mutant' 'HLA-B*08:01 E76C mutant' 'HLA-B27' 'HLA-B39'\n",
      " 'HLA-B40' 'HLA-B44' 'HLA-B51' 'HLA-B58' 'HLA-B60' 'HLA-B62' 'HLA-B7'\n",
      " 'HLA-B8' 'HLA-Cw1' 'HLA-Cw4' 'Mamu-B*001:01' 'Mamu-B*003:01'\n",
      " 'Ptal-N*01:01' 'RT1-Aa' 'SLA-1*04:01' 'SLA-3*02:02' 'Xela-UAAg'] corresponding to 1109 records\n",
      "INFO:root:IEDB -- filtered out unmapped allotypes; records: 155950\n",
      "INFO:root:IEDB -- dropped unnecessary columns and removed duplicates; records 153767\n",
      "INFO:root:IEDB -- completed resource preparation; records: 153767\n"
     ]
    }
   ],
   "source": [
    "iedb.fetch(), iedb.parse();"
   ]
  },
  {
   "cell_type": "markdown",
   "metadata": {},
   "source": [
    "Now we can separate the processed IEDB data into abundant and rare subsets, and each of the latter - into train and test subsets."
   ]
  },
  {
   "cell_type": "code",
   "execution_count": 27,
   "metadata": {},
   "outputs": [
    {
     "name": "stdout",
     "output_type": "stream",
     "text": [
      "A number of observations belonging to \"abundant\" allotypes: 150191\n",
      "A number of observations belonging to \"rare\" allotypes: 3576\n"
     ]
    }
   ],
   "source": [
    "abundant, rare = separate_abundant(iedb.parsed_data, rare_threshold=200)\n",
    "print(f'A number of observations belonging to \"abundant\" allotypes: {len(abundant)}')\n",
    "print(f'A number of observations belonging to \"rare\" allotypes: {len(rare)}')"
   ]
  },
  {
   "cell_type": "code",
   "execution_count": 28,
   "metadata": {},
   "outputs": [
    {
     "name": "stdout",
     "output_type": "stream",
     "text": [
      "A number of training examples: 127659\n",
      "A number of testing examples: 22532\n"
     ]
    }
   ],
   "source": [
    "abundant_train, abundant_test = separate_fraction(abundant, fraction=0.85, mode='observations')\n",
    "print(f'A number of training examples: {len(abundant_train)}')\n",
    "print(f'A number of testing examples: {len(abundant_test)}')"
   ]
  },
  {
   "cell_type": "markdown",
   "metadata": {},
   "source": [
    "Suppose one wants to separate a certain number of allotypes for testing.\n",
    "This is possible by providing `mode=accessions` to `separate_fraction`.\n",
    "\n",
    "For example, let's separate ten abundant allotypes."
   ]
  },
  {
   "cell_type": "code",
   "execution_count": 29,
   "metadata": {},
   "outputs": [
    {
     "data": {
      "text/plain": [
       "0.14084507042253522"
      ]
     },
     "execution_count": 29,
     "metadata": {},
     "output_type": "execute_result"
    }
   ],
   "source": [
    "frac = 10 / len(abundant['accession'].unique())\n",
    "frac"
   ]
  },
  {
   "cell_type": "code",
   "execution_count": 30,
   "metadata": {},
   "outputs": [
    {
     "name": "stdout",
     "output_type": "stream",
     "text": [
      "A number of training examples: 118858\n",
      "A number of testing examples: 31333\n"
     ]
    }
   ],
   "source": [
    "abundant_train, abundant_test = separate_fraction(abundant, fraction=0.85, mode='allotypes')\n",
    "print(f'A number of training examples: {len(abundant_train)}')\n",
    "print(f'A number of testing examples: {len(abundant_test)}')"
   ]
  },
  {
   "cell_type": "markdown",
   "metadata": {},
   "source": [
    "Now, hopefully, that is more than enough to get one going with the data preparation.\n",
    "\n",
    "Let's be nice and clean up the data."
   ]
  },
  {
   "cell_type": "code",
   "execution_count": 31,
   "metadata": {},
   "outputs": [],
   "source": [
    "! rm -r tmp\n",
    "! rm ./mapping.tsv"
   ]
  }
 ],
 "metadata": {
  "kernelspec": {
   "display_name": "Python 3",
   "language": "python",
   "name": "python3"
  },
  "language_info": {
   "codemirror_mode": {
    "name": "ipython",
    "version": 3
   },
   "file_extension": ".py",
   "mimetype": "text/x-python",
   "name": "python",
   "nbconvert_exporter": "python",
   "pygments_lexer": "ipython3",
   "version": "3.7.7"
  }
 },
 "nbformat": 4,
 "nbformat_minor": 4
}
